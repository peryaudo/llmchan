{
 "cells": [
  {
   "cell_type": "code",
   "execution_count": 1,
   "id": "18c6a104-515d-4506-8081-8d0e481381ee",
   "metadata": {},
   "outputs": [],
   "source": [
    "from datasets import load_from_disk"
   ]
  },
  {
   "cell_type": "code",
   "execution_count": 7,
   "id": "557379bf-5658-44ba-b108-b091fc148dd0",
   "metadata": {},
   "outputs": [
    {
     "name": "stderr",
     "output_type": "stream",
     "text": [
      "/home/peryaudo/mambaforge/envs/peryagpt/lib/python3.11/site-packages/datasets/table.py:1421: FutureWarning: promote has been superseded by mode='default'.\n",
      "  table = cls._concat_blocks(blocks, axis=0)\n"
     ]
    }
   ],
   "source": [
    "dataset = load_from_disk(\"converted\")\n",
    "train_dataset = dataset['train']\n",
    "eval_dataset = dataset['test']"
   ]
  },
  {
   "cell_type": "code",
   "execution_count": 13,
   "id": "25bef9f1-1847-4606-bac5-c29617b8aeeb",
   "metadata": {},
   "outputs": [
    {
     "data": {
      "text/plain": [
       "{'【交通】山口県下関市と福岡県北九州市を結ぶ「関門新ルート」（下関北九州道路）、実現へ国・自治体・経済界の3者による検討会発足へ',\n",
       " '【人工知能】ＡＩ、ついに囲碁まで…\\u3000一気に人間を抜き去る「シンギュラリティ」は近い？',\n",
       " '【共謀罪】「恣意的運用」国際視点から警告\\u3000国連報告者、首相に書簡',\n",
       " '【出会い系バー出入り】前川・前文科次官「行ったことは事実」「女性の貧困について実地の視察調査の意味合いがあった」',\n",
       " '【国際】北朝鮮問題、軍事解決は「信じられない規模の悲劇」もたらす＝マティス米国防長官',\n",
       " '【宇宙】NASA、１００京円の価値のある小惑星「プシケ」を地球に持ち帰る計画を実行へ',\n",
       " '【文化】宮崎駿監督が長編アニメ制作決定。「本当に最後」とジブリが公表',\n",
       " '【社会】男性同士でのラブホ断られ「あ、差別されたんだ」\\u3000大阪府のゲイのカップルが訴え',\n",
       " '【社会】離婚後の父が“復讐鬼”？\\u3000子供との「面会交流」で殺害の悲劇が止まらない',\n",
       " '【経済】大阪からの本社移転、508社\\u3000東京・兵庫に集中\\u3000流出続く\\u300094-14年度',\n",
       " '【雑誌】「週刊少年ジャンプ」、200万部割れ\\u3000最盛期から3分の1以下に',\n",
       " '政府、「キッズウィーク」という新たな大型連休創設へ…来年4月からの実施を目指す方針を固める'}"
      ]
     },
     "execution_count": 13,
     "metadata": {},
     "output_type": "execute_result"
    }
   ],
   "source": [
    "set(train_dataset['topic']) & set(eval_dataset['topic'])"
   ]
  },
  {
   "cell_type": "code",
   "execution_count": null,
   "id": "2652632d-4bfa-4937-9786-1da6f3351303",
   "metadata": {},
   "outputs": [],
   "source": []
  }
 ],
 "metadata": {
  "kernelspec": {
   "display_name": "Python 3 (ipykernel)",
   "language": "python",
   "name": "python3"
  },
  "language_info": {
   "codemirror_mode": {
    "name": "ipython",
    "version": 3
   },
   "file_extension": ".py",
   "mimetype": "text/x-python",
   "name": "python",
   "nbconvert_exporter": "python",
   "pygments_lexer": "ipython3",
   "version": "3.11.6"
  }
 },
 "nbformat": 4,
 "nbformat_minor": 5
}
